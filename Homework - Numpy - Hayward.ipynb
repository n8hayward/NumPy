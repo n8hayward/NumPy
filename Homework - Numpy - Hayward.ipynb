{
 "cells": [
  {
   "cell_type": "code",
   "execution_count": 6,
   "id": "63d39010-8cd9-4dfc-8485-e22f621e66f5",
   "metadata": {},
   "outputs": [
    {
     "name": "stdout",
     "output_type": "stream",
     "text": [
      "Q1: 2.1.2\n"
     ]
    }
   ],
   "source": [
    "import numpy as np\n",
    "print('Q1:', np.__version__)"
   ]
  },
  {
   "cell_type": "code",
   "execution_count": 10,
   "id": "00d1a17a-b343-4cde-9b62-2a5c18308291",
   "metadata": {},
   "outputs": [
    {
     "name": "stdout",
     "output_type": "stream",
     "text": [
      "Q2: [0 1 2 3 4 5 6 7 8 9]\n"
     ]
    }
   ],
   "source": [
    "# Create a 1D array of numbers from 0 to 9. Desired output: array([0, 1, 2, 3, 4, 5, 6, 7, 8, 9])\n",
    "array = np.arange(10)\n",
    "print('Q2:', array)"
   ]
  },
  {
   "cell_type": "code",
   "execution_count": 84,
   "id": "266130a8-b6ad-4266-947f-3bea42e523d9",
   "metadata": {},
   "outputs": [
    {
     "name": "stdout",
     "output_type": "stream",
     "text": [
      "Q3: Dataset with numbers and texts keeping the text intact in python numpy:\n",
      "\n",
      " [(5.1, 3.5, 1.4, 0.2, 'Iris-setosa') (4.9, 3. , 1.4, 0.2, 'Iris-setosa')\n",
      " (4.7, 3.2, 1.3, 0.2, 'Iris-setosa') (4.6, 3.1, 1.5, 0.2, 'Iris-setosa')\n",
      " (5. , 3.6, 1.4, 0.2, 'Iris-setosa') (5.4, 3.9, 1.7, 0.4, 'Iris-setosa')\n",
      " (4.6, 3.4, 1.4, 0.3, 'Iris-setosa') (5. , 3.4, 1.5, 0.2, 'Iris-setosa')\n",
      " (4.4, 2.9, 1.4, 0.2, 'Iris-setosa') (4.9, 3.1, 1.5, 0.1, 'Iris-setosa')\n",
      " (5.4, 3.7, 1.5, 0.2, 'Iris-setosa') (4.8, 3.4, 1.6, 0.2, 'Iris-setosa')\n",
      " (4.8, 3. , 1.4, 0.1, 'Iris-setosa') (4.3, 3. , 1.1, 0.1, 'Iris-setosa')\n",
      " (5.8, 4. , 1.2, 0.2, 'Iris-setosa') (5.7, 4.4, 1.5, 0.4, 'Iris-setosa')\n",
      " (5.4, 3.9, 1.3, 0.4, 'Iris-setosa') (5.1, 3.5, 1.4, 0.3, 'Iris-setosa')\n",
      " (5.7, 3.8, 1.7, 0.3, 'Iris-setosa') (5.1, 3.8, 1.5, 0.3, 'Iris-setosa')\n",
      " (5.4, 3.4, 1.7, 0.2, 'Iris-setosa') (5.1, 3.7, 1.5, 0.4, 'Iris-setosa')\n",
      " (4.6, 3.6, 1. , 0.2, 'Iris-setosa') (5.1, 3.3, 1.7, 0.5, 'Iris-setosa')\n",
      " (4.8, 3.4, 1.9, 0.2, 'Iris-setosa') (5. , 3. , 1.6, 0.2, 'Iris-setosa')\n",
      " (5. , 3.4, 1.6, 0.4, 'Iris-setosa') (5.2, 3.5, 1.5, 0.2, 'Iris-setosa')\n",
      " (5.2, 3.4, 1.4, 0.2, 'Iris-setosa') (4.7, 3.2, 1.6, 0.2, 'Iris-setosa')\n",
      " (4.8, 3.1, 1.6, 0.2, 'Iris-setosa') (5.4, 3.4, 1.5, 0.4, 'Iris-setosa')\n",
      " (5.2, 4.1, 1.5, 0.1, 'Iris-setosa') (5.5, 4.2, 1.4, 0.2, 'Iris-setosa')\n",
      " (4.9, 3.1, 1.5, 0.1, 'Iris-setosa') (5. , 3.2, 1.2, 0.2, 'Iris-setosa')\n",
      " (5.5, 3.5, 1.3, 0.2, 'Iris-setosa') (4.9, 3.1, 1.5, 0.1, 'Iris-setosa')\n",
      " (4.4, 3. , 1.3, 0.2, 'Iris-setosa') (5.1, 3.4, 1.5, 0.2, 'Iris-setosa')\n",
      " (5. , 3.5, 1.3, 0.3, 'Iris-setosa') (4.5, 2.3, 1.3, 0.3, 'Iris-setosa')\n",
      " (4.4, 3.2, 1.3, 0.2, 'Iris-setosa') (5. , 3.5, 1.6, 0.6, 'Iris-setosa')\n",
      " (5.1, 3.8, 1.9, 0.4, 'Iris-setosa') (4.8, 3. , 1.4, 0.3, 'Iris-setosa')\n",
      " (5.1, 3.8, 1.6, 0.2, 'Iris-setosa') (4.6, 3.2, 1.4, 0.2, 'Iris-setosa')\n",
      " (5.3, 3.7, 1.5, 0.2, 'Iris-setosa') (5. , 3.3, 1.4, 0.2, 'Iris-setosa')\n",
      " (7. , 3.2, 4.7, 1.4, 'Iris-versicolor')\n",
      " (6.4, 3.2, 4.5, 1.5, 'Iris-versicolor')\n",
      " (6.9, 3.1, 4.9, 1.5, 'Iris-versicolor')\n",
      " (5.5, 2.3, 4. , 1.3, 'Iris-versicolor')\n",
      " (6.5, 2.8, 4.6, 1.5, 'Iris-versicolor')\n",
      " (5.7, 2.8, 4.5, 1.3, 'Iris-versicolor')\n",
      " (6.3, 3.3, 4.7, 1.6, 'Iris-versicolor')\n",
      " (4.9, 2.4, 3.3, 1. , 'Iris-versicolor')\n",
      " (6.6, 2.9, 4.6, 1.3, 'Iris-versicolor')\n",
      " (5.2, 2.7, 3.9, 1.4, 'Iris-versicolor')\n",
      " (5. , 2. , 3.5, 1. , 'Iris-versicolor')\n",
      " (5.9, 3. , 4.2, 1.5, 'Iris-versicolor')\n",
      " (6. , 2.2, 4. , 1. , 'Iris-versicolor')\n",
      " (6.1, 2.9, 4.7, 1.4, 'Iris-versicolor')\n",
      " (5.6, 2.9, 3.6, 1.3, 'Iris-versicolor')\n",
      " (6.7, 3.1, 4.4, 1.4, 'Iris-versicolor')\n",
      " (5.6, 3. , 4.5, 1.5, 'Iris-versicolor')\n",
      " (5.8, 2.7, 4.1, 1. , 'Iris-versicolor')\n",
      " (6.2, 2.2, 4.5, 1.5, 'Iris-versicolor')\n",
      " (5.6, 2.5, 3.9, 1.1, 'Iris-versicolor')\n",
      " (5.9, 3.2, 4.8, 1.8, 'Iris-versicolor')\n",
      " (6.1, 2.8, 4. , 1.3, 'Iris-versicolor')\n",
      " (6.3, 2.5, 4.9, 1.5, 'Iris-versicolor')\n",
      " (6.1, 2.8, 4.7, 1.2, 'Iris-versicolor')\n",
      " (6.4, 2.9, 4.3, 1.3, 'Iris-versicolor')\n",
      " (6.6, 3. , 4.4, 1.4, 'Iris-versicolor')\n",
      " (6.8, 2.8, 4.8, 1.4, 'Iris-versicolor')\n",
      " (6.7, 3. , 5. , 1.7, 'Iris-versicolor')\n",
      " (6. , 2.9, 4.5, 1.5, 'Iris-versicolor')\n",
      " (5.7, 2.6, 3.5, 1. , 'Iris-versicolor')\n",
      " (5.5, 2.4, 3.8, 1.1, 'Iris-versicolor')\n",
      " (5.5, 2.4, 3.7, 1. , 'Iris-versicolor')\n",
      " (5.8, 2.7, 3.9, 1.2, 'Iris-versicolor')\n",
      " (6. , 2.7, 5.1, 1.6, 'Iris-versicolor')\n",
      " (5.4, 3. , 4.5, 1.5, 'Iris-versicolor')\n",
      " (6. , 3.4, 4.5, 1.6, 'Iris-versicolor')\n",
      " (6.7, 3.1, 4.7, 1.5, 'Iris-versicolor')\n",
      " (6.3, 2.3, 4.4, 1.3, 'Iris-versicolor')\n",
      " (5.6, 3. , 4.1, 1.3, 'Iris-versicolor')\n",
      " (5.5, 2.5, 4. , 1.3, 'Iris-versicolor')\n",
      " (5.5, 2.6, 4.4, 1.2, 'Iris-versicolor')\n",
      " (6.1, 3. , 4.6, 1.4, 'Iris-versicolor')\n",
      " (5.8, 2.6, 4. , 1.2, 'Iris-versicolor')\n",
      " (5. , 2.3, 3.3, 1. , 'Iris-versicolor')\n",
      " (5.6, 2.7, 4.2, 1.3, 'Iris-versicolor')\n",
      " (5.7, 3. , 4.2, 1.2, 'Iris-versicolor')\n",
      " (5.7, 2.9, 4.2, 1.3, 'Iris-versicolor')\n",
      " (6.2, 2.9, 4.3, 1.3, 'Iris-versicolor')\n",
      " (5.1, 2.5, 3. , 1.1, 'Iris-versicolor')\n",
      " (5.7, 2.8, 4.1, 1.3, 'Iris-versicolor')\n",
      " (6.3, 3.3, 6. , 2.5, 'Iris-virginica')\n",
      " (5.8, 2.7, 5.1, 1.9, 'Iris-virginica')\n",
      " (7.1, 3. , 5.9, 2.1, 'Iris-virginica')\n",
      " (6.3, 2.9, 5.6, 1.8, 'Iris-virginica')\n",
      " (6.5, 3. , 5.8, 2.2, 'Iris-virginica')\n",
      " (7.6, 3. , 6.6, 2.1, 'Iris-virginica')\n",
      " (4.9, 2.5, 4.5, 1.7, 'Iris-virginica')\n",
      " (7.3, 2.9, 6.3, 1.8, 'Iris-virginica')\n",
      " (6.7, 2.5, 5.8, 1.8, 'Iris-virginica')\n",
      " (7.2, 3.6, 6.1, 2.5, 'Iris-virginica')\n",
      " (6.5, 3.2, 5.1, 2. , 'Iris-virginica')\n",
      " (6.4, 2.7, 5.3, 1.9, 'Iris-virginica')\n",
      " (6.8, 3. , 5.5, 2.1, 'Iris-virginica')\n",
      " (5.7, 2.5, 5. , 2. , 'Iris-virginica')\n",
      " (5.8, 2.8, 5.1, 2.4, 'Iris-virginica')\n",
      " (6.4, 3.2, 5.3, 2.3, 'Iris-virginica')\n",
      " (6.5, 3. , 5.5, 1.8, 'Iris-virginica')\n",
      " (7.7, 3.8, 6.7, 2.2, 'Iris-virginica')\n",
      " (7.7, 2.6, 6.9, 2.3, 'Iris-virginica')\n",
      " (6. , 2.2, 5. , 1.5, 'Iris-virginica')\n",
      " (6.9, 3.2, 5.7, 2.3, 'Iris-virginica')\n",
      " (5.6, 2.8, 4.9, 2. , 'Iris-virginica')\n",
      " (7.7, 2.8, 6.7, 2. , 'Iris-virginica')\n",
      " (6.3, 2.7, 4.9, 1.8, 'Iris-virginica')\n",
      " (6.7, 3.3, 5.7, 2.1, 'Iris-virginica')\n",
      " (7.2, 3.2, 6. , 1.8, 'Iris-virginica')\n",
      " (6.2, 2.8, 4.8, 1.8, 'Iris-virginica')\n",
      " (6.1, 3. , 4.9, 1.8, 'Iris-virginica')\n",
      " (6.4, 2.8, 5.6, 2.1, 'Iris-virginica')\n",
      " (7.2, 3. , 5.8, 1.6, 'Iris-virginica')\n",
      " (7.4, 2.8, 6.1, 1.9, 'Iris-virginica')\n",
      " (7.9, 3.8, 6.4, 2. , 'Iris-virginica')\n",
      " (6.4, 2.8, 5.6, 2.2, 'Iris-virginica')\n",
      " (6.3, 2.8, 5.1, 1.5, 'Iris-virginica')\n",
      " (6.1, 2.6, 5.6, 1.4, 'Iris-virginica')\n",
      " (7.7, 3. , 6.1, 2.3, 'Iris-virginica')\n",
      " (6.3, 3.4, 5.6, 2.4, 'Iris-virginica')\n",
      " (6.4, 3.1, 5.5, 1.8, 'Iris-virginica')\n",
      " (6. , 3. , 4.8, 1.8, 'Iris-virginica')\n",
      " (6.9, 3.1, 5.4, 2.1, 'Iris-virginica')\n",
      " (6.7, 3.1, 5.6, 2.4, 'Iris-virginica')\n",
      " (6.9, 3.1, 5.1, 2.3, 'Iris-virginica')\n",
      " (5.8, 2.7, 5.1, 1.9, 'Iris-virginica')\n",
      " (6.8, 3.2, 5.9, 2.3, 'Iris-virginica')\n",
      " (6.7, 3.3, 5.7, 2.5, 'Iris-virginica')\n",
      " (6.7, 3. , 5.2, 2.3, 'Iris-virginica')\n",
      " (6.3, 2.5, 5. , 1.9, 'Iris-virginica')\n",
      " (6.5, 3. , 5.2, 2. , 'Iris-virginica')\n",
      " (6.2, 3.4, 5.4, 2.3, 'Iris-virginica')\n",
      " (5.9, 3. , 5.1, 1.8, 'Iris-virginica')]\n"
     ]
    }
   ],
   "source": [
    "# Import a dataset with numbers and texts keeping the text intact in python numpy.\n",
    "\n",
    "iris_dataset = '/Users/natehayward/Desktop/venv/iris/iris.data'\n",
    "\n",
    "three_data = np.genfromtxt(iris_dataset, dtype = None, delimiter=\",\")\n",
    "\n",
    "print('Q3: Dataset with numbers and texts keeping the text intact in python numpy:\\n\\n', three_data)"
   ]
  },
  {
   "cell_type": "code",
   "execution_count": 83,
   "id": "b0fa61a2-cc97-4c17-ac02-384f28c2bfcf",
   "metadata": {},
   "outputs": [
    {
     "name": "stdout",
     "output_type": "stream",
     "text": [
      "\n",
      " Q4: Original array:\n",
      "\n",
      " [0.2 0.2 0.2 0.2 0.2 0.4 0.3 0.2 0.2 0.1 0.2 0.2 0.1 0.1 0.2 0.4 0.4 0.3\n",
      " 0.3 0.3 0.2 0.4 0.2 0.5 0.2 0.2 0.4 0.2 0.2 0.2 0.2 0.4 0.1 0.2 0.1 0.2\n",
      " 0.2 0.1 0.2 0.2 0.3 0.3 0.2 0.6 0.4 0.3 0.2 0.2 0.2 0.2 1.4 1.5 1.5 1.3\n",
      " 1.5 1.3 1.6 1.  1.3 1.4 1.  1.5 1.  1.4 1.3 1.4 1.5 1.  1.5 1.1 1.8 1.3\n",
      " 1.5 1.2 1.3 1.4 1.4 1.7 1.5 1.  1.1 1.  1.2 1.6 1.5 1.6 1.5 1.3 1.3 1.3\n",
      " 1.2 1.4 1.2 1.  1.3 1.2 1.3 1.3 1.1 1.3 2.5 1.9 2.1 1.8 2.2 2.1 1.7 1.8\n",
      " 1.8 2.5 2.  1.9 2.1 2.  2.4 2.3 1.8 2.2 2.3 1.5 2.3 2.  2.  1.8 2.1 1.8\n",
      " 1.8 1.8 2.1 1.6 1.9 2.  2.2 1.5 1.4 2.3 2.4 1.8 1.8 2.1 2.4 2.3 1.9 2.3\n",
      " 2.5 2.3 1.9 2.  2.3 1.8]\n",
      "\n",
      "\n",
      " Q4: The position of the first occurence of a value greater than 1.0 in petalwidth 4th column is: 51\n"
     ]
    }
   ],
   "source": [
    "#Find the position of the first occurrence of a value greater than 1.0 in petalwidth 4th column of iris dataset.\n",
    "\n",
    "four_data = np.genfromtxt(iris_dataset, dtype = None, delimiter=\",\", usecols = 3) #usecols separates the column of interest into unique array\n",
    "\n",
    "print('\\n Q4: Original array:\\n\\n', four_data) #print array of column for reference\n",
    "\n",
    "res = np.where(four_data >1)[0] #uses np.where to determine index where four_data > 1\n",
    "if res.size:\n",
    "    res = res[0] +1 \n",
    "else:\n",
    "    res = None\n",
    "\n",
    "print('\\n\\n Q4: The position of the first occurence of a value greater than 1.0 in petalwidth 4th column is:', str(res)) #print result "
   ]
  },
  {
   "cell_type": "code",
   "execution_count": 34,
   "id": "0c4123a3-a228-4c7f-a445-c0252464c3e1",
   "metadata": {},
   "outputs": [
    {
     "name": "stdout",
     "output_type": "stream",
     "text": [
      "\n",
      "Q5 - Original array:\n",
      "\n",
      " [27.62684215 14.64009987 21.80136195 42.39403048  1.23122395  6.95688692\n",
      " 33.86670515 41.466785    7.69862289 29.17957314 44.67477576 11.25090398\n",
      " 10.08108276  6.31046763 11.76517714 48.95256545 40.77247431  9.42510962\n",
      " 40.99501269 14.42961361]\n",
      "\n",
      "Q5 - Replaced array:\n",
      "\n",
      " [27.62684215 14.64009987 21.80136195 30.         10.         10.\n",
      " 30.         30.         10.         29.17957314 30.         11.25090398\n",
      " 10.08108276 10.         11.76517714 30.         30.         10.\n",
      " 30.         14.42961361]\n"
     ]
    }
   ],
   "source": [
    "#From the array a, replace all values greater than 30 to 30 and less than 10 to 10.\n",
    "\n",
    "np.random.seed(100)\n",
    "a = np.random.uniform(1,50, 20)\n",
    "print('\\nQ5 - Original array:\\n\\n', a) #print the original array for reference\n",
    "\n",
    "my_array = a #Re-name array for replacing value \n",
    "\n",
    "my_array[my_array > 30] = 30 #replace all values greater than 30 to 30\n",
    "my_array[my_array < 10] = 10 #replace all values less than 10 to 10\n",
    "\n",
    "print('\\nQ5 - Replaced array:\\n\\n', my_array) #print filtered array "
   ]
  }
 ],
 "metadata": {
  "kernelspec": {
   "display_name": "Python 3 (ipykernel)",
   "language": "python",
   "name": "python3"
  },
  "language_info": {
   "codemirror_mode": {
    "name": "ipython",
    "version": 3
   },
   "file_extension": ".py",
   "mimetype": "text/x-python",
   "name": "python",
   "nbconvert_exporter": "python",
   "pygments_lexer": "ipython3",
   "version": "3.12.5"
  }
 },
 "nbformat": 4,
 "nbformat_minor": 5
}
